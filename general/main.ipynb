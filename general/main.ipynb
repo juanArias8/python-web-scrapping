{
 "cells": [
  {
   "cell_type": "code",
   "execution_count": 57,
   "metadata": {},
   "outputs": [],
   "source": [
    "import requests\n",
    "from bs4 import BeautifulSoup"
   ]
  },
  {
   "cell_type": "markdown",
   "metadata": {},
   "source": [
    "## Obtener HTML de la página"
   ]
  },
  {
   "cell_type": "code",
   "execution_count": 4,
   "metadata": {},
   "outputs": [],
   "source": [
    "r = requests.get('https://carros.tucarro.com.co')"
   ]
  },
  {
   "cell_type": "code",
   "execution_count": 46,
   "metadata": {},
   "outputs": [
    {
     "name": "stdout",
     "output_type": "stream",
     "text": [
      "<!doctype html>\n",
      "<html class=\"no-js\" lang=\"es-CO\" data-site=\"MCO\"\n",
      "      data-country=\"CO\"\n",
      "      data-device=\"desktop\">\n",
      "\n",
      "<head prefix=\"\">\n",
      "\t<title>Carros y Camionetas en TuCarro\n",
      "</title>\n",
      "\n",
      "\t<link rel=\"preconnect\" href=\"//analytics.mlstatic.com\"/>\n",
      "\t<link rel=\"preconnect\" href=\"//resources.mlstatic.com\"/>\n",
      "\t<link rel=\"preconnect\" href=\"//static.mlstatic.com\"/>\n",
      "\t<link rel=\"preconnect\" href=\"https://www.google-analytics.com\"/>\n",
      "\t<link rel=\"preconnect\" href=\"https://www.google.com\"/>\n",
      "\t<l\n"
     ]
    }
   ],
   "source": [
    "print(r.text[19:500])"
   ]
  },
  {
   "cell_type": "markdown",
   "metadata": {},
   "source": [
    "## Convertir y procesar HTML con BeatifulSoup"
   ]
  },
  {
   "cell_type": "code",
   "execution_count": 12,
   "metadata": {},
   "outputs": [],
   "source": [
    "soup = BeautifulSoup(r.text, 'html.parser')"
   ]
  },
  {
   "cell_type": "code",
   "execution_count": 13,
   "metadata": {},
   "outputs": [],
   "source": [
    "results = soup.find_all('li', attrs={'class':'results-item highlighted article grid'})"
   ]
  },
  {
   "cell_type": "code",
   "execution_count": 14,
   "metadata": {},
   "outputs": [
    {
     "data": {
      "text/plain": [
       "48"
      ]
     },
     "execution_count": 14,
     "metadata": {},
     "output_type": "execute_result"
    }
   ],
   "source": [
    "len(results)"
   ]
  },
  {
   "cell_type": "code",
   "execution_count": 17,
   "metadata": {},
   "outputs": [
    {
     "data": {
      "text/plain": [
       "[<li class=\"results-item highlighted article grid\"> <div class=\"rowItem item highlighted item--grid item--has-row-logo new\" id=\"MCO512276816\"><div class=\"item__image item__image--grid\"> <div class=\"images-viewer\" item-id=\"MCO512276816\" item-url=\"https://articulo.tucarro.com.co/MCO-512276816-mitsubishi-l300-long-body-microbus-gas-gasolina-12-pasajero-_JM\"><div class=\"carousel\"> <ul> <li> <a class=\"item-link item__js-link\" href=\"https://articulo.tucarro.com.co/MCO-512276816-mitsubishi-l300-long-body-microbus-gas-gasolina-12-pasajero-_JM\"> <img alt=\"Mitsubishi L300 Long Body Microbus Gas Gasolina -12 Pasajero\" class=\"lazy-load\" height=\"284\" src=\"https://http2.mlstatic.com/mitsubishi-l300-long-body-microbus-gas-gasolina-12-pasajero-D_NQ_NP_830224-MCO31141909107_062019-UB.jpg\" width=\"284\"/> </a> </li> </ul></div> </div></div> <span class=\"item-loading__status-bar item-loading__hide\"></span><a class=\"item__info-link item__js-link\" href=\"https://articulo.tucarro.com.co/MCO-512276816-mitsubishi-l300-long-body-microbus-gas-gasolina-12-pasajero-_JM\"> <div class=\"item__info\"><div class=\"item__price\"> <span class=\"price__symbol\">$</span> <span class=\"price__fraction\">4.500.000</span></div> <div class=\"item__attrs\"> 1995 | 455500 km</div><h2 class=\"item__title list-view-item-title\"> <span class=\"main-title\"> Mitsubishi L300 4x2 </span></h2> <div class=\"item__location\">Antioquia</div> </div></a> </div></li>]"
      ]
     },
     "execution_count": 17,
     "metadata": {},
     "output_type": "execute_result"
    }
   ],
   "source": [
    "results[0:1]"
   ]
  },
  {
   "cell_type": "code",
   "execution_count": 16,
   "metadata": {},
   "outputs": [
    {
     "data": {
      "text/plain": [
       "<li class=\"results-item highlighted article grid\"> <div class=\"rowItem item highlighted item--grid item--has-row-logo new\" id=\"MCO515943899\"><div class=\"item__image item__image--grid\"> <div class=\"images-viewer\" item-id=\"MCO515943899\" item-url=\"https://articulo.tucarro.com.co/MCO-515943899-land-rover-range-rover-evoque-pure-_JM\"><div class=\"carousel\"> <ul> <li> <a class=\"item-link item__js-link\" href=\"https://articulo.tucarro.com.co/MCO-515943899-land-rover-range-rover-evoque-pure-_JM\"> <img alt=\"Land Rover Range Rover Evoque Puré\" class=\"loading\" data-src=\"https://http2.mlstatic.com/land-rover-range-rover-evoque-pure-D_NQ_NP_684851-MCO30723655236_052019-UB.jpg\" height=\"284\" id=\"MCO515943899-I\" width=\"284\"/> </a> </li> </ul></div> </div></div> <span class=\"item-loading__status-bar item-loading__hide\"></span><a class=\"item__info-link item__js-link\" href=\"https://articulo.tucarro.com.co/MCO-515943899-land-rover-range-rover-evoque-pure-_JM\"> <div class=\"item__info\"><div class=\"item__price\"> <span class=\"price__symbol\">$</span> <span class=\"price__fraction\">77.500.000</span></div> <div class=\"item__attrs\"> 2013 | 61910 km</div><h2 class=\"item__title list-view-item-title\"> <span class=\"main-title\"> Land Rover Range Rover Evoque Puré </span></h2> <div class=\"item__location\">Bogotá D.c.</div> </div></a> </div></li>"
      ]
     },
     "execution_count": 16,
     "metadata": {},
     "output_type": "execute_result"
    }
   ],
   "source": [
    "results[-1]"
   ]
  },
  {
   "cell_type": "markdown",
   "metadata": {},
   "source": [
    "### Ejemplo \n",
    "Obtener el precio de un carro"
   ]
  },
  {
   "cell_type": "code",
   "execution_count": 25,
   "metadata": {},
   "outputs": [
    {
     "data": {
      "text/plain": [
       "[<span class=\"item-loading__status-bar item-loading__hide\"></span>,\n",
       " <span class=\"price__symbol\">$</span>,\n",
       " <span class=\"price__fraction\">4.500.000</span>,\n",
       " <span class=\"main-title\"> Mitsubishi L300 4x2 </span>]"
      ]
     },
     "execution_count": 25,
     "metadata": {},
     "output_type": "execute_result"
    }
   ],
   "source": [
    "span_tag = first_result.find_all('span')\n",
    "span_tag"
   ]
  },
  {
   "cell_type": "code",
   "execution_count": 27,
   "metadata": {},
   "outputs": [
    {
     "data": {
      "text/plain": [
       "<span class=\"price__fraction\">4.500.000</span>"
      ]
     },
     "execution_count": 27,
     "metadata": {},
     "output_type": "execute_result"
    }
   ],
   "source": [
    "price_tag = span_tag[2]\n",
    "price_tag"
   ]
  },
  {
   "cell_type": "code",
   "execution_count": 28,
   "metadata": {},
   "outputs": [
    {
     "name": "stdout",
     "output_type": "stream",
     "text": [
      "4.500.000\n"
     ]
    }
   ],
   "source": [
    "print(price_tag.text)"
   ]
  },
  {
   "cell_type": "markdown",
   "metadata": {},
   "source": [
    "### Obtener todos los datos del carro"
   ]
  },
  {
   "cell_type": "code",
   "execution_count": 50,
   "metadata": {},
   "outputs": [
    {
     "data": {
      "text/plain": [
       "'https://http2.mlstatic.com/mitsubishi-l300-long-body-microbus-gas-gasolina-12-pasajero-D_NQ_NP_830224-MCO31141909107_062019-UB.jpg'"
      ]
     },
     "execution_count": 50,
     "metadata": {},
     "output_type": "execute_result"
    }
   ],
   "source": [
    "image = first_result.find('img')['src']\n",
    "image"
   ]
  },
  {
   "cell_type": "code",
   "execution_count": 32,
   "metadata": {},
   "outputs": [
    {
     "data": {
      "text/plain": [
       "'4.500.000'"
      ]
     },
     "execution_count": 32,
     "metadata": {},
     "output_type": "execute_result"
    }
   ],
   "source": [
    "price = first_result.find('span', attrs={'class':'price__fraction'}).text\n",
    "price"
   ]
  },
  {
   "cell_type": "code",
   "execution_count": 39,
   "metadata": {},
   "outputs": [
    {
     "data": {
      "text/plain": [
       "('1995', '455500 km')"
      ]
     },
     "execution_count": 39,
     "metadata": {},
     "output_type": "execute_result"
    }
   ],
   "source": [
    "model, mileage = first_result.find('div', attrs={'class':'item__attrs'}).text.split('|')\n",
    "model = model[1:-1]\n",
    "mileage = mileage[1:]\n",
    "model, mileage"
   ]
  },
  {
   "cell_type": "code",
   "execution_count": 38,
   "metadata": {},
   "outputs": [
    {
     "data": {
      "text/plain": [
       "'Mitsubishi L300 4x2 '"
      ]
     },
     "execution_count": 38,
     "metadata": {},
     "output_type": "execute_result"
    }
   ],
   "source": [
    "car = first_result.find('span', attrs={'class': 'main-title'}).text[1:]\n",
    "car"
   ]
  },
  {
   "cell_type": "code",
   "execution_count": 37,
   "metadata": {},
   "outputs": [
    {
     "data": {
      "text/plain": [
       "'Antioquia'"
      ]
     },
     "execution_count": 37,
     "metadata": {},
     "output_type": "execute_result"
    }
   ],
   "source": [
    "location = first_result.find('div', attrs={'class': 'item__location'}).text\n",
    "location"
   ]
  },
  {
   "cell_type": "code",
   "execution_count": 78,
   "metadata": {},
   "outputs": [
    {
     "data": {
      "text/plain": [
       "'https://articulo.tucarro.com.co/MCO-512276816-mitsubishi-l300-long-body-microbus-gas-gasolina-12-pasajero-_JM'"
      ]
     },
     "execution_count": 78,
     "metadata": {},
     "output_type": "execute_result"
    }
   ],
   "source": [
    "link = first_result.find('a', attrs={'class': 'item-link item__js-link'})['href']\n",
    "link"
   ]
  },
  {
   "cell_type": "markdown",
   "metadata": {},
   "source": [
    "### Obtener los datos para todos los carros"
   ]
  },
  {
   "cell_type": "code",
   "execution_count": 81,
   "metadata": {},
   "outputs": [],
   "source": [
    "results = soup.find_all('li', attrs={'class':'results-item highlighted article grid'})\n",
    "cars_data = []\n",
    "for car in results:\n",
    "    image = get_car_image(car)\n",
    "    link = car.find('a', attrs={'class': 'item-link item__js-link'})['href']\n",
    "    price = car.find('span', attrs={'class':'price__fraction'}).text\n",
    "    model, mileage = car.find('div', attrs={'class':'item__attrs'}).text.split('|')\n",
    "    model, mileage = model[1:-1], mileage[1:]\n",
    "    reference = car.find('span', attrs={'class': 'main-title'}).text[1:]\n",
    "    location = car.find('div', attrs={'class': 'item__location'}).text\n",
    "    cars_data.append((reference, image, location, price, model, mileage, link))"
   ]
  },
  {
   "cell_type": "code",
   "execution_count": 82,
   "metadata": {},
   "outputs": [],
   "source": [
    "def get_car_image(car):\n",
    "    try:\n",
    "        image = car.find('img')['src']\n",
    "    except Exception as e:\n",
    "        image = 'nan'\n",
    "    return image"
   ]
  },
  {
   "cell_type": "code",
   "execution_count": 83,
   "metadata": {},
   "outputs": [
    {
     "data": {
      "text/plain": [
       "48"
      ]
     },
     "execution_count": 83,
     "metadata": {},
     "output_type": "execute_result"
    }
   ],
   "source": [
    "len(cars_data)"
   ]
  },
  {
   "cell_type": "code",
   "execution_count": 84,
   "metadata": {},
   "outputs": [
    {
     "data": {
      "text/plain": [
       "('Chevrolet Sail Ls Mt 1400cc Sa Ab ',\n",
       " 'https://http2.mlstatic.com/chevrolet-sail-ls-ca-D_NQ_NP_761488-MLA28097764856_092018-UB.jpg',\n",
       " 'Bogotá D.c.',\n",
       " '35.265.000',\n",
       " '2019',\n",
       " '0 km',\n",
       " 'https://articulo.tucarro.com.co/MCO-483136804-chevrolet-sail-ls-ca-_JM')"
      ]
     },
     "execution_count": 84,
     "metadata": {},
     "output_type": "execute_result"
    }
   ],
   "source": [
    "cars_data[1]"
   ]
  },
  {
   "cell_type": "code",
   "execution_count": 85,
   "metadata": {},
   "outputs": [
    {
     "data": {
      "text/plain": [
       "('Land Rover Range Rover Evoque Puré ',\n",
       " 'nan',\n",
       " 'Bogotá D.c.',\n",
       " '77.500.000',\n",
       " '2013',\n",
       " '61910 km',\n",
       " 'https://articulo.tucarro.com.co/MCO-515943899-land-rover-range-rover-evoque-pure-_JM')"
      ]
     },
     "execution_count": 85,
     "metadata": {},
     "output_type": "execute_result"
    }
   ],
   "source": [
    "cars_data[-1]"
   ]
  },
  {
   "cell_type": "code",
   "execution_count": 86,
   "metadata": {},
   "outputs": [],
   "source": [
    "df = pd.DataFrame(cars_data, columns=['reference', 'image', 'location', 'price', 'model', 'mileage', 'link'])"
   ]
  },
  {
   "cell_type": "code",
   "execution_count": 87,
   "metadata": {},
   "outputs": [
    {
     "data": {
      "text/html": [
       "<div>\n",
       "<style scoped>\n",
       "    .dataframe tbody tr th:only-of-type {\n",
       "        vertical-align: middle;\n",
       "    }\n",
       "\n",
       "    .dataframe tbody tr th {\n",
       "        vertical-align: top;\n",
       "    }\n",
       "\n",
       "    .dataframe thead th {\n",
       "        text-align: right;\n",
       "    }\n",
       "</style>\n",
       "<table border=\"1\" class=\"dataframe\">\n",
       "  <thead>\n",
       "    <tr style=\"text-align: right;\">\n",
       "      <th></th>\n",
       "      <th>reference</th>\n",
       "      <th>image</th>\n",
       "      <th>location</th>\n",
       "      <th>price</th>\n",
       "      <th>model</th>\n",
       "      <th>mileage</th>\n",
       "      <th>link</th>\n",
       "    </tr>\n",
       "  </thead>\n",
       "  <tbody>\n",
       "    <tr>\n",
       "      <th>0</th>\n",
       "      <td>Mitsubishi L300 4x2</td>\n",
       "      <td>https://http2.mlstatic.com/mitsubishi-l300-lon...</td>\n",
       "      <td>Antioquia</td>\n",
       "      <td>4.500.000</td>\n",
       "      <td>1995</td>\n",
       "      <td>455500 km</td>\n",
       "      <td>https://articulo.tucarro.com.co/MCO-512276816-...</td>\n",
       "    </tr>\n",
       "    <tr>\n",
       "      <th>1</th>\n",
       "      <td>Chevrolet Sail Ls Mt 1400cc Sa Ab</td>\n",
       "      <td>https://http2.mlstatic.com/chevrolet-sail-ls-c...</td>\n",
       "      <td>Bogotá D.c.</td>\n",
       "      <td>35.265.000</td>\n",
       "      <td>2019</td>\n",
       "      <td>0 km</td>\n",
       "      <td>https://articulo.tucarro.com.co/MCO-483136804-...</td>\n",
       "    </tr>\n",
       "  </tbody>\n",
       "</table>\n",
       "</div>"
      ],
      "text/plain": [
       "                            reference  \\\n",
       "0                Mitsubishi L300 4x2    \n",
       "1  Chevrolet Sail Ls Mt 1400cc Sa Ab    \n",
       "\n",
       "                                               image     location       price  \\\n",
       "0  https://http2.mlstatic.com/mitsubishi-l300-lon...    Antioquia   4.500.000   \n",
       "1  https://http2.mlstatic.com/chevrolet-sail-ls-c...  Bogotá D.c.  35.265.000   \n",
       "\n",
       "  model    mileage                                               link  \n",
       "0  1995  455500 km  https://articulo.tucarro.com.co/MCO-512276816-...  \n",
       "1  2019       0 km  https://articulo.tucarro.com.co/MCO-483136804-...  "
      ]
     },
     "execution_count": 87,
     "metadata": {},
     "output_type": "execute_result"
    }
   ],
   "source": [
    "df.head(2)"
   ]
  },
  {
   "cell_type": "code",
   "execution_count": 88,
   "metadata": {},
   "outputs": [
    {
     "data": {
      "text/html": [
       "<div>\n",
       "<style scoped>\n",
       "    .dataframe tbody tr th:only-of-type {\n",
       "        vertical-align: middle;\n",
       "    }\n",
       "\n",
       "    .dataframe tbody tr th {\n",
       "        vertical-align: top;\n",
       "    }\n",
       "\n",
       "    .dataframe thead th {\n",
       "        text-align: right;\n",
       "    }\n",
       "</style>\n",
       "<table border=\"1\" class=\"dataframe\">\n",
       "  <thead>\n",
       "    <tr style=\"text-align: right;\">\n",
       "      <th></th>\n",
       "      <th>reference</th>\n",
       "      <th>image</th>\n",
       "      <th>location</th>\n",
       "      <th>price</th>\n",
       "      <th>model</th>\n",
       "      <th>mileage</th>\n",
       "      <th>link</th>\n",
       "    </tr>\n",
       "  </thead>\n",
       "  <tbody>\n",
       "    <tr>\n",
       "      <th>46</th>\n",
       "      <td>Jeep Cherokee Laredo At 4000cc</td>\n",
       "      <td>nan</td>\n",
       "      <td>Bogotá D.c.</td>\n",
       "      <td>10.900.000</td>\n",
       "      <td>1994</td>\n",
       "      <td>170000 km</td>\n",
       "      <td>https://articulo.tucarro.com.co/MCO-510229171-...</td>\n",
       "    </tr>\n",
       "    <tr>\n",
       "      <th>47</th>\n",
       "      <td>Land Rover Range Rover Evoque Puré</td>\n",
       "      <td>nan</td>\n",
       "      <td>Bogotá D.c.</td>\n",
       "      <td>77.500.000</td>\n",
       "      <td>2013</td>\n",
       "      <td>61910 km</td>\n",
       "      <td>https://articulo.tucarro.com.co/MCO-515943899-...</td>\n",
       "    </tr>\n",
       "  </tbody>\n",
       "</table>\n",
       "</div>"
      ],
      "text/plain": [
       "                              reference image     location       price model  \\\n",
       "46      Jeep Cherokee Laredo At 4000cc    nan  Bogotá D.c.  10.900.000  1994   \n",
       "47  Land Rover Range Rover Evoque Puré    nan  Bogotá D.c.  77.500.000  2013   \n",
       "\n",
       "      mileage                                               link  \n",
       "46  170000 km  https://articulo.tucarro.com.co/MCO-510229171-...  \n",
       "47   61910 km  https://articulo.tucarro.com.co/MCO-515943899-...  "
      ]
     },
     "execution_count": 88,
     "metadata": {},
     "output_type": "execute_result"
    }
   ],
   "source": [
    "df.tail(2)"
   ]
  },
  {
   "cell_type": "code",
   "execution_count": 89,
   "metadata": {},
   "outputs": [
    {
     "data": {
      "text/html": [
       "<div>\n",
       "<style scoped>\n",
       "    .dataframe tbody tr th:only-of-type {\n",
       "        vertical-align: middle;\n",
       "    }\n",
       "\n",
       "    .dataframe tbody tr th {\n",
       "        vertical-align: top;\n",
       "    }\n",
       "\n",
       "    .dataframe thead th {\n",
       "        text-align: right;\n",
       "    }\n",
       "</style>\n",
       "<table border=\"1\" class=\"dataframe\">\n",
       "  <thead>\n",
       "    <tr style=\"text-align: right;\">\n",
       "      <th></th>\n",
       "      <th>reference</th>\n",
       "      <th>image</th>\n",
       "      <th>location</th>\n",
       "      <th>price</th>\n",
       "      <th>model</th>\n",
       "      <th>mileage</th>\n",
       "      <th>link</th>\n",
       "    </tr>\n",
       "  </thead>\n",
       "  <tbody>\n",
       "    <tr>\n",
       "      <th>0</th>\n",
       "      <td>Mitsubishi L300 4x2</td>\n",
       "      <td>https://http2.mlstatic.com/mitsubishi-l300-lon...</td>\n",
       "      <td>Antioquia</td>\n",
       "      <td>4.500.000</td>\n",
       "      <td>1995</td>\n",
       "      <td>455500 km</td>\n",
       "      <td>https://articulo.tucarro.com.co/MCO-512276816-...</td>\n",
       "    </tr>\n",
       "    <tr>\n",
       "      <th>1</th>\n",
       "      <td>Chevrolet Sail Ls Mt 1400cc Sa Ab</td>\n",
       "      <td>https://http2.mlstatic.com/chevrolet-sail-ls-c...</td>\n",
       "      <td>Bogotá D.c.</td>\n",
       "      <td>35.265.000</td>\n",
       "      <td>2019</td>\n",
       "      <td>0 km</td>\n",
       "      <td>https://articulo.tucarro.com.co/MCO-483136804-...</td>\n",
       "    </tr>\n",
       "    <tr>\n",
       "      <th>2</th>\n",
       "      <td>Kia Picanto Emotion</td>\n",
       "      <td>https://http2.mlstatic.com/kia-picanto-motor-1...</td>\n",
       "      <td>Bogotá D.c.</td>\n",
       "      <td>32.490.000</td>\n",
       "      <td>2020</td>\n",
       "      <td>0 km</td>\n",
       "      <td>https://articulo.tucarro.com.co/MCO-512722067-...</td>\n",
       "    </tr>\n",
       "    <tr>\n",
       "      <th>3</th>\n",
       "      <td>Toyota Fortuner Sw4 Street Diesel 4x2 2.4</td>\n",
       "      <td>https://http2.mlstatic.com/toyota-sw4-street-d...</td>\n",
       "      <td>Bogotá D.c.</td>\n",
       "      <td>138.900.000</td>\n",
       "      <td>2019</td>\n",
       "      <td>0 km</td>\n",
       "      <td>https://articulo.tucarro.com.co/MCO-509361251-...</td>\n",
       "    </tr>\n",
       "    <tr>\n",
       "      <th>4</th>\n",
       "      <td>Chevrolet Cruze Cruze Lt Aut 1.8</td>\n",
       "      <td>https://http2.mlstatic.com/chevrolet-cruze-lt-...</td>\n",
       "      <td>Bogotá D.c.</td>\n",
       "      <td>24.900.000</td>\n",
       "      <td>2011</td>\n",
       "      <td>74000 km</td>\n",
       "      <td>https://articulo.tucarro.com.co/MCO-515058298-...</td>\n",
       "    </tr>\n",
       "    <tr>\n",
       "      <th>5</th>\n",
       "      <td>Honda Cr-v Crv Lx</td>\n",
       "      <td>https://http2.mlstatic.com/honda-cr-v-D_NQ_NP_...</td>\n",
       "      <td>Bogotá D.c.</td>\n",
       "      <td>25.900.000</td>\n",
       "      <td>2007</td>\n",
       "      <td>156000 km</td>\n",
       "      <td>https://articulo.tucarro.com.co/MCO-510229179-...</td>\n",
       "    </tr>\n",
       "    <tr>\n",
       "      <th>6</th>\n",
       "      <td>Mazda Mazda 3 Grand Touring</td>\n",
       "      <td>https://http2.mlstatic.com/mazda-3-sdn-gran-to...</td>\n",
       "      <td>Bogotá D.c.</td>\n",
       "      <td>78.450.000</td>\n",
       "      <td>2020</td>\n",
       "      <td>0 km</td>\n",
       "      <td>https://articulo.tucarro.com.co/MCO-474045053-...</td>\n",
       "    </tr>\n",
       "    <tr>\n",
       "      <th>7</th>\n",
       "      <td>Chevrolet Colorado Ltz 2.8 4*4 Mt</td>\n",
       "      <td>https://http2.mlstatic.com/chevrolet-colorado-...</td>\n",
       "      <td>Bogotá D.c.</td>\n",
       "      <td>130.548.000</td>\n",
       "      <td>2018</td>\n",
       "      <td>0 km</td>\n",
       "      <td>https://articulo.tucarro.com.co/MCO-483122557-...</td>\n",
       "    </tr>\n",
       "    <tr>\n",
       "      <th>8</th>\n",
       "      <td>Chevrolet Luv D-max 2.5 Diesel</td>\n",
       "      <td>https://http2.mlstatic.com/chevrolet-luv-d-max...</td>\n",
       "      <td>Caldas</td>\n",
       "      <td>35.000.000</td>\n",
       "      <td>2008</td>\n",
       "      <td>196000 km</td>\n",
       "      <td>https://articulo.tucarro.com.co/MCO-506565677-...</td>\n",
       "    </tr>\n",
       "    <tr>\n",
       "      <th>9</th>\n",
       "      <td>Hyundai Santa Fe Santafe Fe Gl Mt 2400cc 7psj ...</td>\n",
       "      <td>https://http2.mlstatic.com/hyundai-santafe-fe-...</td>\n",
       "      <td>Bogotá D.c.</td>\n",
       "      <td>37.900.000</td>\n",
       "      <td>2011</td>\n",
       "      <td>82000 km</td>\n",
       "      <td>https://articulo.tucarro.com.co/MCO-511696887-...</td>\n",
       "    </tr>\n",
       "    <tr>\n",
       "      <th>10</th>\n",
       "      <td>Kia Picanto Picanto</td>\n",
       "      <td>https://http2.mlstatic.com/kia-picanto-D_NQ_NP...</td>\n",
       "      <td>Bogotá D.c.</td>\n",
       "      <td>20.500.000</td>\n",
       "      <td>2014</td>\n",
       "      <td>77000 km</td>\n",
       "      <td>https://articulo.tucarro.com.co/MCO-514516790-...</td>\n",
       "    </tr>\n",
       "    <tr>\n",
       "      <th>11</th>\n",
       "      <td>Nissan X-trail Nissan X-trail Clasic</td>\n",
       "      <td>https://http2.mlstatic.com/nissan-x-trail-clas...</td>\n",
       "      <td>Bogotá D.c.</td>\n",
       "      <td>32.800.000</td>\n",
       "      <td>2012</td>\n",
       "      <td>78000 km</td>\n",
       "      <td>https://articulo.tucarro.com.co/MCO-513381882-...</td>\n",
       "    </tr>\n",
       "    <tr>\n",
       "      <th>12</th>\n",
       "      <td>Renault Sandero Stepway Zen</td>\n",
       "      <td>nan</td>\n",
       "      <td>Bogotá D.c.</td>\n",
       "      <td>44.190.000</td>\n",
       "      <td>2020</td>\n",
       "      <td>0 km</td>\n",
       "      <td>https://articulo.tucarro.com.co/MCO-502107893-...</td>\n",
       "    </tr>\n",
       "    <tr>\n",
       "      <th>13</th>\n",
       "      <td>Chevrolet Aveo Emotion Gt Mt 1600 Cc 5p Aa 1ab</td>\n",
       "      <td>nan</td>\n",
       "      <td>Valle Del Cauca</td>\n",
       "      <td>21.900.000</td>\n",
       "      <td>2012</td>\n",
       "      <td>65000 km</td>\n",
       "      <td>https://articulo.tucarro.com.co/MCO-509105206-...</td>\n",
       "    </tr>\n",
       "    <tr>\n",
       "      <th>14</th>\n",
       "      <td>Bmw Serie 3 320</td>\n",
       "      <td>nan</td>\n",
       "      <td>Bogotá D.c.</td>\n",
       "      <td>29.990.000</td>\n",
       "      <td>2006</td>\n",
       "      <td>82000 km</td>\n",
       "      <td>https://articulo.tucarro.com.co/MCO-515104600-...</td>\n",
       "    </tr>\n",
       "    <tr>\n",
       "      <th>15</th>\n",
       "      <td>Nissan Pathfinder Le Premium At 4000cc Aa</td>\n",
       "      <td>nan</td>\n",
       "      <td>Bogotá D.c.</td>\n",
       "      <td>36.900.000</td>\n",
       "      <td>2007</td>\n",
       "      <td>120000 km</td>\n",
       "      <td>https://articulo.tucarro.com.co/MCO-509595815-...</td>\n",
       "    </tr>\n",
       "    <tr>\n",
       "      <th>16</th>\n",
       "      <td>Renault Twingo Dynamique</td>\n",
       "      <td>nan</td>\n",
       "      <td>Bogotá D.c.</td>\n",
       "      <td>13.900.000</td>\n",
       "      <td>2012</td>\n",
       "      <td>61000 km</td>\n",
       "      <td>https://articulo.tucarro.com.co/MCO-512623602-...</td>\n",
       "    </tr>\n",
       "    <tr>\n",
       "      <th>17</th>\n",
       "      <td>Ford Ecosport S Mt 2000cc 4x2</td>\n",
       "      <td>nan</td>\n",
       "      <td>Bogotá D.c.</td>\n",
       "      <td>35.999.999</td>\n",
       "      <td>2013</td>\n",
       "      <td>49000 km</td>\n",
       "      <td>https://articulo.tucarro.com.co/MCO-511718114-...</td>\n",
       "    </tr>\n",
       "    <tr>\n",
       "      <th>18</th>\n",
       "      <td>Ford Fiesta Hatchback Titanium At 1600cc</td>\n",
       "      <td>nan</td>\n",
       "      <td>Bogotá D.c.</td>\n",
       "      <td>34.800.000</td>\n",
       "      <td>2015</td>\n",
       "      <td>38500 km</td>\n",
       "      <td>https://articulo.tucarro.com.co/MCO-510851560-...</td>\n",
       "    </tr>\n",
       "    <tr>\n",
       "      <th>19</th>\n",
       "      <td>Mazda Mazda 6 2.300</td>\n",
       "      <td>nan</td>\n",
       "      <td>Antioquia</td>\n",
       "      <td>17.800.000</td>\n",
       "      <td>2007</td>\n",
       "      <td>130000 km</td>\n",
       "      <td>https://articulo.tucarro.com.co/MCO-513909543-...</td>\n",
       "    </tr>\n",
       "    <tr>\n",
       "      <th>20</th>\n",
       "      <td>Hyundai I10 I10 Gl</td>\n",
       "      <td>nan</td>\n",
       "      <td>Bogotá D.c.</td>\n",
       "      <td>16.500.000</td>\n",
       "      <td>2013</td>\n",
       "      <td>115000 km</td>\n",
       "      <td>https://articulo.tucarro.com.co/MCO-510229160-...</td>\n",
       "    </tr>\n",
       "    <tr>\n",
       "      <th>21</th>\n",
       "      <td>Nissan Tiida Tiida Mio 1.8 Mt</td>\n",
       "      <td>nan</td>\n",
       "      <td>Bogotá D.c.</td>\n",
       "      <td>18.900.000</td>\n",
       "      <td>2012</td>\n",
       "      <td>132000 km</td>\n",
       "      <td>https://articulo.tucarro.com.co/MCO-510229201-...</td>\n",
       "    </tr>\n",
       "    <tr>\n",
       "      <th>22</th>\n",
       "      <td>Hyundai Tucson Tucson</td>\n",
       "      <td>nan</td>\n",
       "      <td>Bogotá D.c.</td>\n",
       "      <td>85.990.000</td>\n",
       "      <td>2019</td>\n",
       "      <td>0 km</td>\n",
       "      <td>https://articulo.tucarro.com.co/MCO-511652746-...</td>\n",
       "    </tr>\n",
       "    <tr>\n",
       "      <th>23</th>\n",
       "      <td>Chevrolet Sail Ls Mt 1.400cc Aa 2ab Fe</td>\n",
       "      <td>nan</td>\n",
       "      <td>Bogotá D.c.</td>\n",
       "      <td>25.900.000</td>\n",
       "      <td>2017</td>\n",
       "      <td>28000 km</td>\n",
       "      <td>https://articulo.tucarro.com.co/MCO-512838287-...</td>\n",
       "    </tr>\n",
       "    <tr>\n",
       "      <th>24</th>\n",
       "      <td>Renault Logan Life</td>\n",
       "      <td>nan</td>\n",
       "      <td>Bogotá D.c.</td>\n",
       "      <td>35.790.000</td>\n",
       "      <td>2020</td>\n",
       "      <td>0 km</td>\n",
       "      <td>https://articulo.tucarro.com.co/MCO-502107886-...</td>\n",
       "    </tr>\n",
       "    <tr>\n",
       "      <th>25</th>\n",
       "      <td>Chevrolet Captiva 2.4 Premium</td>\n",
       "      <td>nan</td>\n",
       "      <td>Bogotá D.c.</td>\n",
       "      <td>28.700.000</td>\n",
       "      <td>2011</td>\n",
       "      <td>80000 km</td>\n",
       "      <td>https://articulo.tucarro.com.co/MCO-515518126-...</td>\n",
       "    </tr>\n",
       "    <tr>\n",
       "      <th>26</th>\n",
       "      <td>Renault Mégane Ii Expression</td>\n",
       "      <td>nan</td>\n",
       "      <td>Bogotá D.c.</td>\n",
       "      <td>15.900.000</td>\n",
       "      <td>2008</td>\n",
       "      <td>127000 km</td>\n",
       "      <td>https://articulo.tucarro.com.co/MCO-511679307-...</td>\n",
       "    </tr>\n",
       "    <tr>\n",
       "      <th>27</th>\n",
       "      <td>Mercedes-benz Clase C Mercedes C200</td>\n",
       "      <td>nan</td>\n",
       "      <td>Bogotá D.c.</td>\n",
       "      <td>87.500.000</td>\n",
       "      <td>2015</td>\n",
       "      <td>8000 km</td>\n",
       "      <td>https://articulo.tucarro.com.co/MCO-512620390-...</td>\n",
       "    </tr>\n",
       "    <tr>\n",
       "      <th>28</th>\n",
       "      <td>Ford Ecosport 2.0 L Mt 2000cc 4x4</td>\n",
       "      <td>nan</td>\n",
       "      <td>Bogotá D.c.</td>\n",
       "      <td>25.900.000</td>\n",
       "      <td>2007</td>\n",
       "      <td>85000 km</td>\n",
       "      <td>https://articulo.tucarro.com.co/MCO-500363489-...</td>\n",
       "    </tr>\n",
       "    <tr>\n",
       "      <th>29</th>\n",
       "      <td>Hyundai Accent Accent</td>\n",
       "      <td>nan</td>\n",
       "      <td>Risaralda</td>\n",
       "      <td>9.500.000</td>\n",
       "      <td>2000</td>\n",
       "      <td>39878 km</td>\n",
       "      <td>https://articulo.tucarro.com.co/MCO-504615744-...</td>\n",
       "    </tr>\n",
       "    <tr>\n",
       "      <th>30</th>\n",
       "      <td>Suzuki Ertiga Ertiga 1.4 Mt 7 Psj 4x2</td>\n",
       "      <td>nan</td>\n",
       "      <td>Bogotá D.c.</td>\n",
       "      <td>34.900.000</td>\n",
       "      <td>2015</td>\n",
       "      <td>59000 km</td>\n",
       "      <td>https://articulo.tucarro.com.co/MCO-515058925-...</td>\n",
       "    </tr>\n",
       "    <tr>\n",
       "      <th>31</th>\n",
       "      <td>Toyota Prado Tx Diesel Tp 3000 Cc 5p Td A.a Fu...</td>\n",
       "      <td>nan</td>\n",
       "      <td>Santander</td>\n",
       "      <td>149.800.000</td>\n",
       "      <td>2015</td>\n",
       "      <td>73930 km</td>\n",
       "      <td>https://articulo.tucarro.com.co/MCO-511461530-...</td>\n",
       "    </tr>\n",
       "    <tr>\n",
       "      <th>32</th>\n",
       "      <td>Chevrolet Sail Chevrolet Sail Ls , Unico Dueño</td>\n",
       "      <td>nan</td>\n",
       "      <td>Bogotá D.c.</td>\n",
       "      <td>22.900.000</td>\n",
       "      <td>2016</td>\n",
       "      <td>50000 km</td>\n",
       "      <td>https://articulo.tucarro.com.co/MCO-516556367-...</td>\n",
       "    </tr>\n",
       "    <tr>\n",
       "      <th>33</th>\n",
       "      <td>Toyota Rav4 2020</td>\n",
       "      <td>nan</td>\n",
       "      <td>Bogotá D.c.</td>\n",
       "      <td>109.000.000</td>\n",
       "      <td>2020</td>\n",
       "      <td>0 km</td>\n",
       "      <td>https://articulo.tucarro.com.co/MCO-507886087-...</td>\n",
       "    </tr>\n",
       "    <tr>\n",
       "      <th>34</th>\n",
       "      <td>Kia Sportage 2.0 Mt 2000cc Ab</td>\n",
       "      <td>nan</td>\n",
       "      <td>Bogotá D.c.</td>\n",
       "      <td>34.900.000</td>\n",
       "      <td>2014</td>\n",
       "      <td>117000 km</td>\n",
       "      <td>https://articulo.tucarro.com.co/MCO-510229151-...</td>\n",
       "    </tr>\n",
       "    <tr>\n",
       "      <th>35</th>\n",
       "      <td>Nissan Frontier Frontier Np 300 Le Mt 2500cc 4...</td>\n",
       "      <td>nan</td>\n",
       "      <td>Bogotá D.c.</td>\n",
       "      <td>86.900.000</td>\n",
       "      <td>2016</td>\n",
       "      <td>56000 km</td>\n",
       "      <td>https://articulo.tucarro.com.co/MCO-511997001-...</td>\n",
       "    </tr>\n",
       "    <tr>\n",
       "      <th>36</th>\n",
       "      <td>Renault Logan Expression Nd Mt 1600cc Aa</td>\n",
       "      <td>nan</td>\n",
       "      <td>Antioquia</td>\n",
       "      <td>26.500.000</td>\n",
       "      <td>2017</td>\n",
       "      <td>54000 km</td>\n",
       "      <td>https://articulo.tucarro.com.co/MCO-513826435-...</td>\n",
       "    </tr>\n",
       "    <tr>\n",
       "      <th>37</th>\n",
       "      <td>Mazda Mazda 3 All New Sedan</td>\n",
       "      <td>nan</td>\n",
       "      <td>Risaralda</td>\n",
       "      <td>28.500.000</td>\n",
       "      <td>2011</td>\n",
       "      <td>107228 km</td>\n",
       "      <td>https://articulo.tucarro.com.co/MCO-510625489-...</td>\n",
       "    </tr>\n",
       "    <tr>\n",
       "      <th>38</th>\n",
       "      <td>Ford Escape Escape Se</td>\n",
       "      <td>nan</td>\n",
       "      <td>Bogotá D.c.</td>\n",
       "      <td>44.800.000</td>\n",
       "      <td>2013</td>\n",
       "      <td>70000 km</td>\n",
       "      <td>https://articulo.tucarro.com.co/MCO-514523600-...</td>\n",
       "    </tr>\n",
       "    <tr>\n",
       "      <th>39</th>\n",
       "      <td>Mazda Mazda 3 Sedan 1.6 Automático</td>\n",
       "      <td>nan</td>\n",
       "      <td>Atlántico</td>\n",
       "      <td>18.500.000</td>\n",
       "      <td>2008</td>\n",
       "      <td>113223 km</td>\n",
       "      <td>https://articulo.tucarro.com.co/MCO-511560120-...</td>\n",
       "    </tr>\n",
       "    <tr>\n",
       "      <th>40</th>\n",
       "      <td>Chevrolet Equinox Premier /plan 50/50 Gratis M...</td>\n",
       "      <td>nan</td>\n",
       "      <td>Bogotá D.c.</td>\n",
       "      <td>115.796.000</td>\n",
       "      <td>2018</td>\n",
       "      <td>0 km</td>\n",
       "      <td>https://articulo.tucarro.com.co/MCO-483136805-...</td>\n",
       "    </tr>\n",
       "    <tr>\n",
       "      <th>41</th>\n",
       "      <td>Ford Fiesta Hatchback Se At 1600cc</td>\n",
       "      <td>nan</td>\n",
       "      <td>Bogotá D.c.</td>\n",
       "      <td>31.500.000</td>\n",
       "      <td>2015</td>\n",
       "      <td>51000 km</td>\n",
       "      <td>https://articulo.tucarro.com.co/MCO-515653820-...</td>\n",
       "    </tr>\n",
       "    <tr>\n",
       "      <th>42</th>\n",
       "      <td>Kia Cerato Forte Cerato Forte</td>\n",
       "      <td>nan</td>\n",
       "      <td>Bogotá D.c.</td>\n",
       "      <td>27.200.000</td>\n",
       "      <td>2011</td>\n",
       "      <td>61330 km</td>\n",
       "      <td>https://articulo.tucarro.com.co/MCO-513249139-...</td>\n",
       "    </tr>\n",
       "    <tr>\n",
       "      <th>43</th>\n",
       "      <td>Ford Fusión V6 Sel At 3000cc</td>\n",
       "      <td>nan</td>\n",
       "      <td>Bogotá D.c.</td>\n",
       "      <td>24.400.000</td>\n",
       "      <td>2009</td>\n",
       "      <td>85000 km</td>\n",
       "      <td>https://articulo.tucarro.com.co/MCO-507913282-...</td>\n",
       "    </tr>\n",
       "    <tr>\n",
       "      <th>44</th>\n",
       "      <td>Toyota Land Cruiser Fj 70 Japonés</td>\n",
       "      <td>nan</td>\n",
       "      <td>Bogotá D.c.</td>\n",
       "      <td>27.000.000</td>\n",
       "      <td>1989</td>\n",
       "      <td>300000 km</td>\n",
       "      <td>https://articulo.tucarro.com.co/MCO-510811898-...</td>\n",
       "    </tr>\n",
       "    <tr>\n",
       "      <th>45</th>\n",
       "      <td>Hyundai Tucson All New Mt 2000 4x2</td>\n",
       "      <td>nan</td>\n",
       "      <td>Bogotá D.c.</td>\n",
       "      <td>65.900.000</td>\n",
       "      <td>2016</td>\n",
       "      <td>17000 km</td>\n",
       "      <td>https://articulo.tucarro.com.co/MCO-514889087-...</td>\n",
       "    </tr>\n",
       "    <tr>\n",
       "      <th>46</th>\n",
       "      <td>Jeep Cherokee Laredo At 4000cc</td>\n",
       "      <td>nan</td>\n",
       "      <td>Bogotá D.c.</td>\n",
       "      <td>10.900.000</td>\n",
       "      <td>1994</td>\n",
       "      <td>170000 km</td>\n",
       "      <td>https://articulo.tucarro.com.co/MCO-510229171-...</td>\n",
       "    </tr>\n",
       "    <tr>\n",
       "      <th>47</th>\n",
       "      <td>Land Rover Range Rover Evoque Puré</td>\n",
       "      <td>nan</td>\n",
       "      <td>Bogotá D.c.</td>\n",
       "      <td>77.500.000</td>\n",
       "      <td>2013</td>\n",
       "      <td>61910 km</td>\n",
       "      <td>https://articulo.tucarro.com.co/MCO-515943899-...</td>\n",
       "    </tr>\n",
       "  </tbody>\n",
       "</table>\n",
       "</div>"
      ],
      "text/plain": [
       "                                            reference  \\\n",
       "0                                Mitsubishi L300 4x2    \n",
       "1                  Chevrolet Sail Ls Mt 1400cc Sa Ab    \n",
       "2                                Kia Picanto Emotion    \n",
       "3          Toyota Fortuner Sw4 Street Diesel 4x2 2.4    \n",
       "4                   Chevrolet Cruze Cruze Lt Aut 1.8    \n",
       "5                                  Honda Cr-v Crv Lx    \n",
       "6                        Mazda Mazda 3 Grand Touring    \n",
       "7                  Chevrolet Colorado Ltz 2.8 4*4 Mt    \n",
       "8                     Chevrolet Luv D-max 2.5 Diesel    \n",
       "9   Hyundai Santa Fe Santafe Fe Gl Mt 2400cc 7psj ...   \n",
       "10                               Kia Picanto Picanto    \n",
       "11              Nissan X-trail Nissan X-trail Clasic    \n",
       "12                       Renault Sandero Stepway Zen    \n",
       "13    Chevrolet Aveo Emotion Gt Mt 1600 Cc 5p Aa 1ab    \n",
       "14                                   Bmw Serie 3 320    \n",
       "15         Nissan Pathfinder Le Premium At 4000cc Aa    \n",
       "16                          Renault Twingo Dynamique    \n",
       "17                     Ford Ecosport S Mt 2000cc 4x2    \n",
       "18          Ford Fiesta Hatchback Titanium At 1600cc    \n",
       "19                               Mazda Mazda 6 2.300    \n",
       "20                                Hyundai I10 I10 Gl    \n",
       "21                     Nissan Tiida Tiida Mio 1.8 Mt    \n",
       "22                             Hyundai Tucson Tucson    \n",
       "23            Chevrolet Sail Ls Mt 1.400cc Aa 2ab Fe    \n",
       "24                                Renault Logan Life    \n",
       "25                     Chevrolet Captiva 2.4 Premium    \n",
       "26                      Renault Mégane Ii Expression    \n",
       "27               Mercedes-benz Clase C Mercedes C200    \n",
       "28                 Ford Ecosport 2.0 L Mt 2000cc 4x4    \n",
       "29                             Hyundai Accent Accent    \n",
       "30             Suzuki Ertiga Ertiga 1.4 Mt 7 Psj 4x2    \n",
       "31  Toyota Prado Tx Diesel Tp 3000 Cc 5p Td A.a Fu...   \n",
       "32    Chevrolet Sail Chevrolet Sail Ls , Unico Dueño    \n",
       "33                                  Toyota Rav4 2020    \n",
       "34                     Kia Sportage 2.0 Mt 2000cc Ab    \n",
       "35  Nissan Frontier Frontier Np 300 Le Mt 2500cc 4...   \n",
       "36          Renault Logan Expression Nd Mt 1600cc Aa    \n",
       "37                       Mazda Mazda 3 All New Sedan    \n",
       "38                             Ford Escape Escape Se    \n",
       "39                Mazda Mazda 3 Sedan 1.6 Automático    \n",
       "40  Chevrolet Equinox Premier /plan 50/50 Gratis M...   \n",
       "41                Ford Fiesta Hatchback Se At 1600cc    \n",
       "42                     Kia Cerato Forte Cerato Forte    \n",
       "43                      Ford Fusión V6 Sel At 3000cc    \n",
       "44                 Toyota Land Cruiser Fj 70 Japonés    \n",
       "45                Hyundai Tucson All New Mt 2000 4x2    \n",
       "46                    Jeep Cherokee Laredo At 4000cc    \n",
       "47                Land Rover Range Rover Evoque Puré    \n",
       "\n",
       "                                                image         location  \\\n",
       "0   https://http2.mlstatic.com/mitsubishi-l300-lon...        Antioquia   \n",
       "1   https://http2.mlstatic.com/chevrolet-sail-ls-c...      Bogotá D.c.   \n",
       "2   https://http2.mlstatic.com/kia-picanto-motor-1...      Bogotá D.c.   \n",
       "3   https://http2.mlstatic.com/toyota-sw4-street-d...      Bogotá D.c.   \n",
       "4   https://http2.mlstatic.com/chevrolet-cruze-lt-...      Bogotá D.c.   \n",
       "5   https://http2.mlstatic.com/honda-cr-v-D_NQ_NP_...      Bogotá D.c.   \n",
       "6   https://http2.mlstatic.com/mazda-3-sdn-gran-to...      Bogotá D.c.   \n",
       "7   https://http2.mlstatic.com/chevrolet-colorado-...      Bogotá D.c.   \n",
       "8   https://http2.mlstatic.com/chevrolet-luv-d-max...           Caldas   \n",
       "9   https://http2.mlstatic.com/hyundai-santafe-fe-...      Bogotá D.c.   \n",
       "10  https://http2.mlstatic.com/kia-picanto-D_NQ_NP...      Bogotá D.c.   \n",
       "11  https://http2.mlstatic.com/nissan-x-trail-clas...      Bogotá D.c.   \n",
       "12                                                nan      Bogotá D.c.   \n",
       "13                                                nan  Valle Del Cauca   \n",
       "14                                                nan      Bogotá D.c.   \n",
       "15                                                nan      Bogotá D.c.   \n",
       "16                                                nan      Bogotá D.c.   \n",
       "17                                                nan      Bogotá D.c.   \n",
       "18                                                nan      Bogotá D.c.   \n",
       "19                                                nan        Antioquia   \n",
       "20                                                nan      Bogotá D.c.   \n",
       "21                                                nan      Bogotá D.c.   \n",
       "22                                                nan      Bogotá D.c.   \n",
       "23                                                nan      Bogotá D.c.   \n",
       "24                                                nan      Bogotá D.c.   \n",
       "25                                                nan      Bogotá D.c.   \n",
       "26                                                nan      Bogotá D.c.   \n",
       "27                                                nan      Bogotá D.c.   \n",
       "28                                                nan      Bogotá D.c.   \n",
       "29                                                nan        Risaralda   \n",
       "30                                                nan      Bogotá D.c.   \n",
       "31                                                nan        Santander   \n",
       "32                                                nan      Bogotá D.c.   \n",
       "33                                                nan      Bogotá D.c.   \n",
       "34                                                nan      Bogotá D.c.   \n",
       "35                                                nan      Bogotá D.c.   \n",
       "36                                                nan        Antioquia   \n",
       "37                                                nan        Risaralda   \n",
       "38                                                nan      Bogotá D.c.   \n",
       "39                                                nan        Atlántico   \n",
       "40                                                nan      Bogotá D.c.   \n",
       "41                                                nan      Bogotá D.c.   \n",
       "42                                                nan      Bogotá D.c.   \n",
       "43                                                nan      Bogotá D.c.   \n",
       "44                                                nan      Bogotá D.c.   \n",
       "45                                                nan      Bogotá D.c.   \n",
       "46                                                nan      Bogotá D.c.   \n",
       "47                                                nan      Bogotá D.c.   \n",
       "\n",
       "          price model    mileage  \\\n",
       "0     4.500.000  1995  455500 km   \n",
       "1    35.265.000  2019       0 km   \n",
       "2    32.490.000  2020       0 km   \n",
       "3   138.900.000  2019       0 km   \n",
       "4    24.900.000  2011   74000 km   \n",
       "5    25.900.000  2007  156000 km   \n",
       "6    78.450.000  2020       0 km   \n",
       "7   130.548.000  2018       0 km   \n",
       "8    35.000.000  2008  196000 km   \n",
       "9    37.900.000  2011   82000 km   \n",
       "10   20.500.000  2014   77000 km   \n",
       "11   32.800.000  2012   78000 km   \n",
       "12   44.190.000  2020       0 km   \n",
       "13   21.900.000  2012   65000 km   \n",
       "14   29.990.000  2006   82000 km   \n",
       "15   36.900.000  2007  120000 km   \n",
       "16   13.900.000  2012   61000 km   \n",
       "17   35.999.999  2013   49000 km   \n",
       "18   34.800.000  2015   38500 km   \n",
       "19   17.800.000  2007  130000 km   \n",
       "20   16.500.000  2013  115000 km   \n",
       "21   18.900.000  2012  132000 km   \n",
       "22   85.990.000  2019       0 km   \n",
       "23   25.900.000  2017   28000 km   \n",
       "24   35.790.000  2020       0 km   \n",
       "25   28.700.000  2011   80000 km   \n",
       "26   15.900.000  2008  127000 km   \n",
       "27   87.500.000  2015    8000 km   \n",
       "28   25.900.000  2007   85000 km   \n",
       "29    9.500.000  2000   39878 km   \n",
       "30   34.900.000  2015   59000 km   \n",
       "31  149.800.000  2015   73930 km   \n",
       "32   22.900.000  2016   50000 km   \n",
       "33  109.000.000  2020       0 km   \n",
       "34   34.900.000  2014  117000 km   \n",
       "35   86.900.000  2016   56000 km   \n",
       "36   26.500.000  2017   54000 km   \n",
       "37   28.500.000  2011  107228 km   \n",
       "38   44.800.000  2013   70000 km   \n",
       "39   18.500.000  2008  113223 km   \n",
       "40  115.796.000  2018       0 km   \n",
       "41   31.500.000  2015   51000 km   \n",
       "42   27.200.000  2011   61330 km   \n",
       "43   24.400.000  2009   85000 km   \n",
       "44   27.000.000  1989  300000 km   \n",
       "45   65.900.000  2016   17000 km   \n",
       "46   10.900.000  1994  170000 km   \n",
       "47   77.500.000  2013   61910 km   \n",
       "\n",
       "                                                 link  \n",
       "0   https://articulo.tucarro.com.co/MCO-512276816-...  \n",
       "1   https://articulo.tucarro.com.co/MCO-483136804-...  \n",
       "2   https://articulo.tucarro.com.co/MCO-512722067-...  \n",
       "3   https://articulo.tucarro.com.co/MCO-509361251-...  \n",
       "4   https://articulo.tucarro.com.co/MCO-515058298-...  \n",
       "5   https://articulo.tucarro.com.co/MCO-510229179-...  \n",
       "6   https://articulo.tucarro.com.co/MCO-474045053-...  \n",
       "7   https://articulo.tucarro.com.co/MCO-483122557-...  \n",
       "8   https://articulo.tucarro.com.co/MCO-506565677-...  \n",
       "9   https://articulo.tucarro.com.co/MCO-511696887-...  \n",
       "10  https://articulo.tucarro.com.co/MCO-514516790-...  \n",
       "11  https://articulo.tucarro.com.co/MCO-513381882-...  \n",
       "12  https://articulo.tucarro.com.co/MCO-502107893-...  \n",
       "13  https://articulo.tucarro.com.co/MCO-509105206-...  \n",
       "14  https://articulo.tucarro.com.co/MCO-515104600-...  \n",
       "15  https://articulo.tucarro.com.co/MCO-509595815-...  \n",
       "16  https://articulo.tucarro.com.co/MCO-512623602-...  \n",
       "17  https://articulo.tucarro.com.co/MCO-511718114-...  \n",
       "18  https://articulo.tucarro.com.co/MCO-510851560-...  \n",
       "19  https://articulo.tucarro.com.co/MCO-513909543-...  \n",
       "20  https://articulo.tucarro.com.co/MCO-510229160-...  \n",
       "21  https://articulo.tucarro.com.co/MCO-510229201-...  \n",
       "22  https://articulo.tucarro.com.co/MCO-511652746-...  \n",
       "23  https://articulo.tucarro.com.co/MCO-512838287-...  \n",
       "24  https://articulo.tucarro.com.co/MCO-502107886-...  \n",
       "25  https://articulo.tucarro.com.co/MCO-515518126-...  \n",
       "26  https://articulo.tucarro.com.co/MCO-511679307-...  \n",
       "27  https://articulo.tucarro.com.co/MCO-512620390-...  \n",
       "28  https://articulo.tucarro.com.co/MCO-500363489-...  \n",
       "29  https://articulo.tucarro.com.co/MCO-504615744-...  \n",
       "30  https://articulo.tucarro.com.co/MCO-515058925-...  \n",
       "31  https://articulo.tucarro.com.co/MCO-511461530-...  \n",
       "32  https://articulo.tucarro.com.co/MCO-516556367-...  \n",
       "33  https://articulo.tucarro.com.co/MCO-507886087-...  \n",
       "34  https://articulo.tucarro.com.co/MCO-510229151-...  \n",
       "35  https://articulo.tucarro.com.co/MCO-511997001-...  \n",
       "36  https://articulo.tucarro.com.co/MCO-513826435-...  \n",
       "37  https://articulo.tucarro.com.co/MCO-510625489-...  \n",
       "38  https://articulo.tucarro.com.co/MCO-514523600-...  \n",
       "39  https://articulo.tucarro.com.co/MCO-511560120-...  \n",
       "40  https://articulo.tucarro.com.co/MCO-483136805-...  \n",
       "41  https://articulo.tucarro.com.co/MCO-515653820-...  \n",
       "42  https://articulo.tucarro.com.co/MCO-513249139-...  \n",
       "43  https://articulo.tucarro.com.co/MCO-507913282-...  \n",
       "44  https://articulo.tucarro.com.co/MCO-510811898-...  \n",
       "45  https://articulo.tucarro.com.co/MCO-514889087-...  \n",
       "46  https://articulo.tucarro.com.co/MCO-510229171-...  \n",
       "47  https://articulo.tucarro.com.co/MCO-515943899-...  "
      ]
     },
     "execution_count": 89,
     "metadata": {},
     "output_type": "execute_result"
    }
   ],
   "source": [
    "df"
   ]
  },
  {
   "cell_type": "code",
   "execution_count": 90,
   "metadata": {},
   "outputs": [],
   "source": [
    "df.to_csv('cars_data.csv', index=False, encoding='utf-8')"
   ]
  },
  {
   "cell_type": "code",
   "execution_count": null,
   "metadata": {},
   "outputs": [],
   "source": []
  }
 ],
 "metadata": {
  "kernelspec": {
   "display_name": "Python 3",
   "language": "python",
   "name": "python3"
  },
  "language_info": {
   "codemirror_mode": {
    "name": "ipython",
    "version": 3
   },
   "file_extension": ".py",
   "mimetype": "text/x-python",
   "name": "python",
   "nbconvert_exporter": "python",
   "pygments_lexer": "ipython3",
   "version": "3.7.4"
  }
 },
 "nbformat": 4,
 "nbformat_minor": 4
}
